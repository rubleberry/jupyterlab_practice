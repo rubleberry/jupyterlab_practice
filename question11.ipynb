{
 "cells": [
  {
   "cell_type": "markdown",
   "id": "37ecf362-1549-4094-ad69-381dd507f0b1",
   "metadata": {},
   "source": [
    "# Question 11 Jaewoo Park\n",
    "Notebook for assignment 7\n"
   ]
  },
  {
   "cell_type": "code",
   "execution_count": 3,
   "id": "48f31a8c-8c1d-4062-9d3f-ca1f789b5d0a",
   "metadata": {},
   "outputs": [
    {
     "data": {
      "text/plain": [
       "5.0"
      ]
     },
     "execution_count": 3,
     "metadata": {},
     "output_type": "execute_result"
    }
   ],
   "source": [
    "def compute_mean(l: list):\n",
    "    \"\"\" find the mean value of four input numbers \"\"\"\n",
    "    sum = 0\n",
    "    for num in l:\n",
    "        sum = sum + num\n",
    "    return sum / len(l)\n",
    "\n",
    "compute_mean([2, 4, 6, 8])"
   ]
  },
  {
   "cell_type": "markdown",
   "id": "7503ac11-a8ef-4238-8cfa-468b86647665",
   "metadata": {},
   "source": [
    "The function compute_mean returns the mean of the numbers in the list.\n",
    "The equation is like below.\n",
    "$$\n",
    "\\overline{x} = \\frac{x_1 + x_2 + \\cdots + x_n}{n} = \\frac{1}{n} \\Bigg( \\sum^{n}_{i=1} x_i \\Bigg ) \n",
    "$$"
   ]
  },
  {
   "cell_type": "markdown",
   "id": "b41f601b-31d7-4019-829c-65a363db3be4",
   "metadata": {},
   "source": [
    "![](images/question11.png)"
   ]
  }
 ],
 "metadata": {
  "kernelspec": {
   "display_name": "Python 3 (ipykernel)",
   "language": "python",
   "name": "python3"
  },
  "language_info": {
   "codemirror_mode": {
    "name": "ipython",
    "version": 3
   },
   "file_extension": ".py",
   "mimetype": "text/x-python",
   "name": "python",
   "nbconvert_exporter": "python",
   "pygments_lexer": "ipython3",
   "version": "3.12.2"
  }
 },
 "nbformat": 4,
 "nbformat_minor": 5
}
