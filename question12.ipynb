{
 "cells": [
  {
   "cell_type": "markdown",
   "id": "faf8b88a-b9d5-43ad-b7ff-4731b2be9ffd",
   "metadata": {},
   "source": [
    "We are currently working in the following directory:"
   ]
  },
  {
   "cell_type": "code",
   "execution_count": 1,
   "id": "3f93d08a-3815-4203-bb3d-d88119ff51b3",
   "metadata": {},
   "outputs": [
    {
     "name": "stdout",
     "output_type": "stream",
     "text": [
      "/c/Users/russi/assignment/07\n"
     ]
    }
   ],
   "source": [
    "!pwd"
   ]
  },
  {
   "cell_type": "markdown",
   "id": "5e2a0482-de89-4d08-98f7-b85c51497de5",
   "metadata": {},
   "source": [
    "To time how long it takes to run a Python cell, we could use the timeit command inside a cell as is shown below: Followed by the proper use of the timeit command to time the following loop:"
   ]
  },
  {
   "cell_type": "code",
   "execution_count": 2,
   "id": "8a7fa42a-f453-4f7e-8b29-8eb420daaaec",
   "metadata": {},
   "outputs": [
    {
     "name": "stdout",
     "output_type": "stream",
     "text": [
      "129 ms ± 821 µs per loop (mean ± std. dev. of 7 runs, 10 loops each)\n"
     ]
    }
   ],
   "source": [
    "%%timeit\n",
    "\n",
    "for i in range(1_000_000):\n",
    "    i**2"
   ]
  },
  {
   "cell_type": "code",
   "execution_count": 3,
   "id": "a1ea4068-afd0-4f3e-8196-c8671f1fef5f",
   "metadata": {},
   "outputs": [
    {
     "name": "stderr",
     "output_type": "stream",
     "text": [
      "[NbConvertApp] Converting notebook question12.ipynb to html\n",
      "[NbConvertApp] Writing 271046 bytes to question12.html\n"
     ]
    }
   ],
   "source": [
    "!jupyter nbconvert question12.ipynb \\\n",
    "    --to html \\\n",
    "    --output=question12.html \\\n",
    "    --no-input"
   ]
  },
  {
   "cell_type": "code",
   "execution_count": null,
   "id": "d557a03e-0ce7-499f-886f-bf3a88da137f",
   "metadata": {},
   "outputs": [],
   "source": []
  }
 ],
 "metadata": {
  "kernelspec": {
   "display_name": "Python 3 (ipykernel)",
   "language": "python",
   "name": "python3"
  },
  "language_info": {
   "codemirror_mode": {
    "name": "ipython",
    "version": 3
   },
   "file_extension": ".py",
   "mimetype": "text/x-python",
   "name": "python",
   "nbconvert_exporter": "python",
   "pygments_lexer": "ipython3",
   "version": "3.12.2"
  }
 },
 "nbformat": 4,
 "nbformat_minor": 5
}
